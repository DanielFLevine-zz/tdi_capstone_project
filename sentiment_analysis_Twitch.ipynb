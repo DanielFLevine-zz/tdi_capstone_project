{
 "cells": [
  {
   "cell_type": "markdown",
   "metadata": {
    "colab_type": "text",
    "id": "dsV0PaId6K_y"
   },
   "source": [
    "# Pog/Kappa Meter\n",
    "\n",
    "The aim of this project is to provide a \"Pog vs Kappa\" comparison for each streamer's channel over a given period of time and use these labels to analyze sentiment. Emotes of type \"Pog\" correspond to excitement, whereas \"Kappa\" corresponds to sarcasm. We can think of these emotes as measure of enjoyment versus playfulness for a streamer's channel. Ideally, we would be able to measure sentiment by capturing emotes that show enjoyment, but sometimes emotes are used sarcastically. For example, it is not uncommon to see both of the following comments:\n",
    "> First place! PogChamp\n",
    "\n",
    "> Last place! PogChamp\n",
    "\n",
    "Clearly, the last comment is sarcastic. In order to account for this, we measure the \"troll-y-ness\" of the channel.\n",
    "\n",
    "Once we create a model to predict the emotes, we will evaluate the sentiment of chatrooms by counting appearances of emotes explicity written in messages as well as classifying text without emotes using our neural network.\n",
    "\n",
    "The main difficulty in building a sentiment classifier for chat room messages is the noisiness of the data. There are several grammatical errors, \"trolling\" messages, spam messages, and sarcastic messages. Our model makes a first attempt at building a reasonable classifier, but it can be improved by further preprocessing and carefully selecting emote groups.\n",
    "\n",
    "## Table of Contents\n",
    "\n",
    "1. [Preprocessing](##preprocessing)\n",
    "2. [Embedding](##embedding)\n",
    "3. [Learning](##learning)\n",
    "4. [Sentiment Analysis](##sentiment)"
   ]
  },
  {
   "cell_type": "code",
   "execution_count": 3,
   "metadata": {
    "colab": {},
    "colab_type": "code",
    "id": "sY9IzbXkypnD"
   },
   "outputs": [],
   "source": [
    "%tensorflow_version 2.x"
   ]
  },
  {
   "cell_type": "code",
   "execution_count": 4,
   "metadata": {
    "colab": {
     "base_uri": "https://localhost:8080/",
     "height": 146
    },
    "colab_type": "code",
    "id": "TvkNgH2vyu6x",
    "outputId": "cb9694a5-bee2-4a7c-bdb2-88cc6991acab"
   },
   "outputs": [
    {
     "name": "stdout",
     "output_type": "stream",
     "text": [
      "Go to this URL in a browser: https://accounts.google.com/o/oauth2/auth?client_id=947318989803-6bn6qk8qdgf4n4g3pfee6491hc0brc4i.apps.googleusercontent.com&redirect_uri=urn%3aietf%3awg%3aoauth%3a2.0%3aoob&scope=email%20https%3a%2f%2fwww.googleapis.com%2fauth%2fdocs.test%20https%3a%2f%2fwww.googleapis.com%2fauth%2fdrive%20https%3a%2f%2fwww.googleapis.com%2fauth%2fdrive.photos.readonly%20https%3a%2f%2fwww.googleapis.com%2fauth%2fpeopleapi.readonly&response_type=code\n",
      "\n",
      "Enter your authorization code:\n",
      "··········\n",
      "Mounted at /content/drive\n",
      "/content/drive/My Drive\n"
     ]
    }
   ],
   "source": [
    "from google.colab import drive\n",
    "drive.mount('/content/drive')\n",
    "%cd /content/drive/My\\ Drive/"
   ]
  },
  {
   "cell_type": "code",
   "execution_count": 1,
   "metadata": {
    "colab": {},
    "colab_type": "code",
    "id": "FBDOI7e6G80X"
   },
   "outputs": [],
   "source": [
    "import pandas as pd\n",
    "import os\n",
    "import re\n",
    "import requests\n",
    "import json\n",
    "import twokenize\n",
    "import pickle\n",
    "import numpy as np\n",
    "from datetime import datetime"
   ]
  },
  {
   "cell_type": "markdown",
   "metadata": {
    "colab_type": "text",
    "id": "07uxQzO8-Avh"
   },
   "source": [
    "### Preprocessing\n",
    "\n",
    "In order to properly train our data, we will need to combine the 52 pickled data sets into one large data set, which is over 12 GB. Since the size is too large for memory, we will have to preprocess each data set individually, and preprocess chunks of the individual data sets themselves when they are too large. To carry this out, we saved our pickled files as csv files since ```pandas``` can read csv files piece by piece, whereas pickled files cannot be read in this way. (In the end, this was unnecessary, but we chose to save our files to csv anyway.)\n",
    "\n",
    "The goal of our preprocessing step is to filter unwanted messages while also labeling the messages according to the emotes used. We first load in our list of streamers, which were obtained manually. They are listed by size in descending order."
   ]
  },
  {
   "cell_type": "code",
   "execution_count": 74,
   "metadata": {
    "colab": {
     "base_uri": "https://localhost:8080/",
     "height": 35
    },
    "colab_type": "code",
    "id": "upjHiR-VSCbW",
    "outputId": "9eeaceb3-cddf-4314-8331-d2f00713991d"
   },
   "outputs": [
    {
     "data": {
      "text/plain": [
       "['sodapoppin', 'shroud', 'lirik', 'moonmoon_ow', 'ninja']"
      ]
     },
     "execution_count": 74,
     "metadata": {
      "tags": []
     },
     "output_type": "execute_result"
    }
   ],
   "source": [
    "streamers = pickle.load(open(\"streamers.pkl\", \"rb\"))\n",
    "streamers[:5]"
   ]
  },
  {
   "cell_type": "markdown",
   "metadata": {
    "colab_type": "text",
    "id": "BMXurfh6TdLK"
   },
   "source": [
    "We load the pickled files one by one, selecting only the columns that may be useful later on. This reduces the size of the data by 25%."
   ]
  },
  {
   "cell_type": "code",
   "execution_count": null,
   "metadata": {
    "colab": {},
    "colab_type": "code",
    "id": "-myENd7MR_H1"
   },
   "outputs": [],
   "source": [
    "for streamer in streamers:\n",
    "  df = pd.read_pickle(streamer+'.pkl')\n",
    "  df = df.drop(columns=['updated_at', 'commenter_type', 'offset', 'video_id', 'commenter_id'])\n",
    "  df.to_csv(streamer + '_trim.csv')\n",
    "  del df"
   ]
  },
  {
   "cell_type": "markdown",
   "metadata": {
    "colab_type": "text",
    "id": "g6zVo6oXUDAO"
   },
   "source": [
    "Once we have trimmed the size our data set and saved the dataframes to csv files, we are ready to start preprocessing our data. We will create a function that preprocesses any dataframe given to it. Our goal is to remove any hyperlinks, non-ASCII characters, tokenize the data. We choose to leave punctuation in our text since there is some benefit for our models."
   ]
  },
  {
   "cell_type": "code",
   "execution_count": null,
   "metadata": {
    "colab": {},
    "colab_type": "code",
    "id": "pTLkPfBVQhgR"
   },
   "outputs": [],
   "source": [
    "def process_df(df):\n",
    "    df['body'] = df['body'].apply(lambda x: re.sub(\"http\\S+|[^\\x00-\\x7F]\", \"\", str(x)))\n",
    "    df['tokens_body'] = df['body'].apply(lambda x: twokenize.tokenizeRawTweetText(x))\n",
    "    df['counts'] = df['tokens_body'].apply(lambda x: len(x))\n",
    "    df['u_counts'] = df['tokens_body'].apply(lambda x: len(set(x)))\n",
    "    \n",
    "    # Remove sentences with fewer than 5 unique words. We will apply a modified version of this filter again later on.\n",
    "    df = df[df['u_counts'] >= 5]\n",
    "    df['date'] = df['created_at'].apply(lambda x: datetime.strptime(datetime.strftime(x, '%Y %m %d %H'), '%Y %m %d %H'))\n",
    "    \n",
    "    return df[['date','body','tokens_body']]"
   ]
  },
  {
   "cell_type": "code",
   "execution_count": null,
   "metadata": {
    "colab": {},
    "colab_type": "code",
    "id": "dbwLOwZ5VV2S"
   },
   "outputs": [],
   "source": [
    "for streamer in streamers:\n",
    "    df = pd.read_csv('trimmed_data/' + streamer + '_trim.csv', usecols=['body','created_at'], parse_dates=['created_at'])\n",
    "    df = process_df(df)\n",
    "    df.to_csv('tokenized_data/' + streamer +'_tokenized.csv')\n",
    "    del df"
   ]
  },
  {
   "cell_type": "markdown",
   "metadata": {
    "colab_type": "text",
    "id": "G8jkF5TYWBW6"
   },
   "source": [
    "We will request the list of emotes from Twitch using an api. This can only be used to grab global emotes and streamer-specific emotes. Global emotes are not as popular as they once were, but still common enough that they should be used. Streamer-specific emotes are emotes accessible only to paid subscribers to a channel and are frequently used. The last group of emotes is obtained manually from [FrankerFaceZ](https://www.frankerfacez.com/emoticons/). These emotes are similar in function to the global emotes and have since replaced them. We only use the 100 most popular emotes used on Twitch.\n",
    "\n",
    "Emotes serve two purposes: \n",
    "\n",
    "*   They provide a way to label our data and classify sentiment, similar to techniques used for Twitter sentiment analysis. (See [Towards the Understanding of Gaming Audiences by Modeling Twitch Emotes](https://pdfs.semanticscholar.org/1260/f76d10ec66dda257070ce4dcdbab800ec501.pdf)).\n",
    "*   We will need to filter these emotes out of the so that our model cannot cheat, and also to filter out noise in our messages.\n",
    "\n"
   ]
  },
  {
   "cell_type": "code",
   "execution_count": 70,
   "metadata": {
    "colab": {},
    "colab_type": "code",
    "id": "EQbtX1Xsy8k5"
   },
   "outputs": [],
   "source": [
    "# Get global emotes. Some have become less popular in favor of FrankerFace emotes.\n",
    "\n",
    "global_response = requests.get('https://api.twitch.tv/kraken/chat/emoticon_images?emotesets=0', headers={\n",
    "                               'Accept': 'application/vnd.twitchtv.v5+json', 'Client-ID': '4f7ls48eaq2lly25dyuiead8o5ydev'})\n",
    "json_data_global = json.loads(global_response.text)\n",
    "global_emotes = json_data_global.get('emoticon_sets').get('0')\n",
    "global_emotes = set([i.get(\"code\") for i in global_emotes])"
   ]
  },
  {
   "cell_type": "code",
   "execution_count": 71,
   "metadata": {
    "colab": {},
    "colab_type": "code",
    "id": "6gN4IMTvy-45"
   },
   "outputs": [],
   "source": [
    "# Function for grabbing emotes specific to a particular streamer. Only subscribers to the streamer's channel can use these.\n",
    "\n",
    "def streamer_emotes(streamer):\n",
    "    channel_ids = pickle.load(open('channel_ids.pkl', 'rb'))\n",
    "    response = requests.get('https://api.twitchemotes.com/api/v4/channels/' + channel_ids[streamer])\n",
    "    json_data = json.loads(response.text)\n",
    "    emotes = json_data.get(\"emotes\")\n",
    "    X = set([i.get(\"code\") for i in emotes])\n",
    "\n",
    "    return X"
   ]
  },
  {
   "cell_type": "code",
   "execution_count": 72,
   "metadata": {
    "colab": {},
    "colab_type": "code",
    "id": "qYxyVkS05LZJ"
   },
   "outputs": [],
   "source": [
    "# Load top 96 FrankerFaceZ emotes.\n",
    "topffemotes = set(pickle.load(open('top100ffemotes.pkl', 'rb')))\n"
   ]
  },
  {
   "cell_type": "markdown",
   "metadata": {
    "colab_type": "text",
    "id": "6XmAJw-Q5qKR"
   },
   "source": [
    "In this final preprocessing step, we will label our data and filter emotes from our tokens. From here, we will be able to use these dataframes for our word embeddings."
   ]
  },
  {
   "cell_type": "code",
   "execution_count": 7,
   "metadata": {
    "colab": {},
    "colab_type": "code",
    "id": "QIrXIgDmy_WL"
   },
   "outputs": [],
   "source": [
    "def process_tokens(streamer):\n",
    "  df = pd.read_csv('tokenized_data/' + streamer + '_tokenized.csv', parse_dates=['date'])\n",
    "\n",
    "  kappas = {'Kapp', 'Kappa', 'KappaClaus', 'KappaPride', 'KappaRoss', 'KappaWealth', 'Kappu', 'Keepo'}\n",
    "  pogs = {'POGGERS','Pog','PogChamp','PogU','PogYou','Pogey'}\n",
    "\n",
    "  X = global_emotes.union(streamer_emotes(streamer)).union(topffemotes)\n",
    "  df['tokens_body'] = df['tokens_body'].apply(lambda x: eval(x))\n",
    "  df['unique emotes'] = df['tokens_body'].apply(set)\n",
    "  df['unique emotes'] = df['unique emotes'].apply(lambda x: x.intersection(set(X)))\n",
    "\n",
    "  df['emote_counts'] = df['unique emotes'].apply(lambda x: len(x))\n",
    "  df_filt = df[df['emote_counts'] > 0]\n",
    "\n",
    "  df_filt['pog'] = df_filt['unique emotes'].apply(lambda x: 1 if len(x.intersection(pogs)) > 0 else 0)\n",
    "  df_filt['kappa'] = df_filt['unique emotes'].apply(lambda x: 1 if len(x.intersection(kappas)) > 0 else 0)\n",
    "  df_filt['mix'] = df_filt['pog'] + df_filt['kappa']\n",
    "  df['u'] = df['tokens_body'].apply(lambda x: len(set(x)))\n",
    "  df_filt = df_filt[df_filt['mix'] <= 1]\n",
    "  df_filt['other'] = df_filt['mix'].apply(lambda x: 1 if x == 0 else 0)\n",
    "\n",
    "  df_filt['tokens_minus_emotes'] = df_filt['tokens_body'].apply(lambda x: [i for i in x if i not in X])\n",
    "  df_filt['u'] = df_filt['tokens_minus_emotes'].apply(lambda x: len(set(x)))\n",
    "  df_filt = df_filt[df_filt['u'] >= 5]\n",
    "  df_filt = df_filt.drop_duplicates(subset=['body'])\n",
    "  df_filt['body_short'] = df_filt['tokens_minus_emotes'].apply(lambda x: ' '.join(x[:8]))\n",
    "  df_filt = df_filt.drop_duplicates(subset=['body_short'])\n",
    "\n",
    "  df_filt = df_filt[['date','tokens_minus_emotes','unique emotes','pog','kappa','other']]\n",
    "  df_filt.to_csv('processed_tokens/' + streamer + '_proc.csv')"
   ]
  },
  {
   "cell_type": "code",
   "execution_count": null,
   "metadata": {
    "colab": {},
    "colab_type": "code",
    "id": "XgxwQPMBy_qn"
   },
   "outputs": [],
   "source": [
    "streamers = pickle.load(open(\"streamers.pkl\", \"rb\"))\n",
    "for streamer in streamers:\n",
    "  process_tokens(streamer)\n",
    "  print(streamer + \" processed.\")"
   ]
  },
  {
   "cell_type": "markdown",
   "metadata": {
    "colab_type": "text",
    "id": "3bT1zzVHbSo3"
   },
   "source": [
    "## Embeddings\n",
    "\n",
    "The inputs for our neural network must be ```numpy``` arrays, so we will need to use word embeddings to vectorize our inputs. While we can train our own embedding layer in ```keras```, we find that better performance can be obtained using pre-trained embedding models.\n",
    "\n",
    "One of the most common embedding models for NLP tasks is Google's Word2Vec. However, Word2Vec does not handle mispellings well, which can be an issue for processing chat room messages. Facebook's fastText is a more general model that learns character n-grams along with the word embedding as in Word2Vec. We will use fastText through the ```gluonnlp``` package.\n",
    "\n",
    "We load in our data from the preprocessing stage."
   ]
  },
  {
   "cell_type": "code",
   "execution_count": 27,
   "metadata": {
    "colab": {
     "base_uri": "https://localhost:8080/",
     "height": 407
    },
    "colab_type": "code",
    "id": "86NM-oXSy_8g",
    "outputId": "1b6e0b03-64fd-4739-f89e-cbc0258257ba"
   },
   "outputs": [
    {
     "data": {
      "text/html": [
       "<div>\n",
       "<style scoped>\n",
       "    .dataframe tbody tr th:only-of-type {\n",
       "        vertical-align: middle;\n",
       "    }\n",
       "\n",
       "    .dataframe tbody tr th {\n",
       "        vertical-align: top;\n",
       "    }\n",
       "\n",
       "    .dataframe thead th {\n",
       "        text-align: right;\n",
       "    }\n",
       "</style>\n",
       "<table border=\"1\" class=\"dataframe\">\n",
       "  <thead>\n",
       "    <tr style=\"text-align: right;\">\n",
       "      <th></th>\n",
       "      <th>Unnamed: 0</th>\n",
       "      <th>date</th>\n",
       "      <th>tokens_minus_emotes</th>\n",
       "      <th>unique emotes</th>\n",
       "      <th>pog</th>\n",
       "      <th>kappa</th>\n",
       "      <th>other</th>\n",
       "    </tr>\n",
       "  </thead>\n",
       "  <tbody>\n",
       "    <tr>\n",
       "      <th>0</th>\n",
       "      <td>6</td>\n",
       "      <td>2018-05-20 20:00:00</td>\n",
       "      <td>['VOD', 'FROGS', ',', 'WHISPER', 'ME', 'IF', '...</td>\n",
       "      <td>{'HeyGuys'}</td>\n",
       "      <td>0</td>\n",
       "      <td>0</td>\n",
       "      <td>1</td>\n",
       "    </tr>\n",
       "    <tr>\n",
       "      <th>1</th>\n",
       "      <td>7</td>\n",
       "      <td>2018-05-20 20:00:00</td>\n",
       "      <td>['@jakepaulfan999', 'hurry', 'up', 'with', 'yo...</td>\n",
       "      <td>{'Pog'}</td>\n",
       "      <td>1</td>\n",
       "      <td>0</td>\n",
       "      <td>0</td>\n",
       "    </tr>\n",
       "    <tr>\n",
       "      <th>2</th>\n",
       "      <td>9</td>\n",
       "      <td>2018-05-20 20:00:00</td>\n",
       "      <td>[\"It's\", 'still', 'hosting', 'forsen', 'for', ...</td>\n",
       "      <td>{'monkaS'}</td>\n",
       "      <td>0</td>\n",
       "      <td>0</td>\n",
       "      <td>1</td>\n",
       "    </tr>\n",
       "    <tr>\n",
       "      <th>3</th>\n",
       "      <td>30</td>\n",
       "      <td>2018-05-20 20:00:00</td>\n",
       "      <td>['VOD', 'FROGS', 'WHISPER', 'ME', 'IF', 'YOU',...</td>\n",
       "      <td>{'sodaC'}</td>\n",
       "      <td>0</td>\n",
       "      <td>0</td>\n",
       "      <td>1</td>\n",
       "    </tr>\n",
       "    <tr>\n",
       "      <th>4</th>\n",
       "      <td>37</td>\n",
       "      <td>2018-05-20 20:00:00</td>\n",
       "      <td>['sodaHi', 'Thanks', 'for', 'staying', 'Furry'...</td>\n",
       "      <td>{'sodaB'}</td>\n",
       "      <td>0</td>\n",
       "      <td>0</td>\n",
       "      <td>1</td>\n",
       "    </tr>\n",
       "    <tr>\n",
       "      <th>...</th>\n",
       "      <td>...</td>\n",
       "      <td>...</td>\n",
       "      <td>...</td>\n",
       "      <td>...</td>\n",
       "      <td>...</td>\n",
       "      <td>...</td>\n",
       "      <td>...</td>\n",
       "    </tr>\n",
       "    <tr>\n",
       "      <th>5663</th>\n",
       "      <td>54419</td>\n",
       "      <td>2018-06-22 00:00:00</td>\n",
       "      <td>['If', 'only', 'I', 'could', 'hit', 'the', 'el...</td>\n",
       "      <td>{'FeelsBadMan'}</td>\n",
       "      <td>0</td>\n",
       "      <td>0</td>\n",
       "      <td>1</td>\n",
       "    </tr>\n",
       "    <tr>\n",
       "      <th>5664</th>\n",
       "      <td>54429</td>\n",
       "      <td>2018-06-22 00:00:00</td>\n",
       "      <td>['&lt;', 'Well', 'Done', '&gt;', 'EZ']</td>\n",
       "      <td>{'Clap'}</td>\n",
       "      <td>0</td>\n",
       "      <td>0</td>\n",
       "      <td>1</td>\n",
       "    </tr>\n",
       "    <tr>\n",
       "      <th>5665</th>\n",
       "      <td>54438</td>\n",
       "      <td>2018-06-22 00:00:00</td>\n",
       "      <td>[\"that'll\", 'be', 'it', 'for', 'me', 'today']</td>\n",
       "      <td>{'FeelsBadMan'}</td>\n",
       "      <td>0</td>\n",
       "      <td>0</td>\n",
       "      <td>1</td>\n",
       "    </tr>\n",
       "    <tr>\n",
       "      <th>5666</th>\n",
       "      <td>54451</td>\n",
       "      <td>2018-06-22 00:00:00</td>\n",
       "      <td>['Type', '1', 'if', 'you', 'would', 'Kibler']</td>\n",
       "      <td>{'KappaPride'}</td>\n",
       "      <td>0</td>\n",
       "      <td>1</td>\n",
       "      <td>0</td>\n",
       "    </tr>\n",
       "    <tr>\n",
       "      <th>5667</th>\n",
       "      <td>54459</td>\n",
       "      <td>2018-06-22 01:00:00</td>\n",
       "      <td>['but', 'I', 'just', 'got', 'here']</td>\n",
       "      <td>{'PepeHands'}</td>\n",
       "      <td>0</td>\n",
       "      <td>0</td>\n",
       "      <td>1</td>\n",
       "    </tr>\n",
       "  </tbody>\n",
       "</table>\n",
       "<p>2119435 rows × 7 columns</p>\n",
       "</div>"
      ],
      "text/plain": [
       "      Unnamed: 0                date  ... kappa other\n",
       "0              6 2018-05-20 20:00:00  ...     0     1\n",
       "1              7 2018-05-20 20:00:00  ...     0     0\n",
       "2              9 2018-05-20 20:00:00  ...     0     1\n",
       "3             30 2018-05-20 20:00:00  ...     0     1\n",
       "4             37 2018-05-20 20:00:00  ...     0     1\n",
       "...          ...                 ...  ...   ...   ...\n",
       "5663       54419 2018-06-22 00:00:00  ...     0     1\n",
       "5664       54429 2018-06-22 00:00:00  ...     0     1\n",
       "5665       54438 2018-06-22 00:00:00  ...     0     1\n",
       "5666       54451 2018-06-22 00:00:00  ...     1     0\n",
       "5667       54459 2018-06-22 01:00:00  ...     0     1\n",
       "\n",
       "[2119435 rows x 7 columns]"
      ]
     },
     "execution_count": 27,
     "metadata": {
      "tags": []
     },
     "output_type": "execute_result"
    }
   ],
   "source": [
    "streamers = pickle.load(open(\"streamers.pkl\", \"rb\"))\n",
    "df = pd.DataFrame()\n",
    "for streamer in streamers:\n",
    "  df_temp = pd.read_csv('processed_tokens/'+streamer+'_proc.csv', parse_dates=['date'])\n",
    "  df = pd.concat([df,df_temp])\n",
    "df"
   ]
  },
  {
   "cell_type": "code",
   "execution_count": 28,
   "metadata": {
    "colab": {
     "base_uri": "https://localhost:8080/",
     "height": 72
    },
    "colab_type": "code",
    "id": "oeCpNmADy_gp",
    "outputId": "e8ad5ac4-7fc8-41ae-efba-42deab7b4d39"
   },
   "outputs": [
    {
     "name": "stdout",
     "output_type": "stream",
     "text": [
      "126292\n",
      "204573\n",
      "1788570\n"
     ]
    }
   ],
   "source": [
    "# Frequency of labels in our data\n",
    "labels = ['pog','kappa','other']\n",
    "for label in labels:\n",
    "    print(df[label].sum())"
   ]
  },
  {
   "cell_type": "markdown",
   "metadata": {
    "colab_type": "text",
    "id": "d6DKAIxScOva"
   },
   "source": [
    "As we can see, messages are more frequently not of \"pog\" or \"kappa\" type, so we will need to sample our data so our model does not learn to simply guess \"other\" for every message. Another alternative is to use SMOTE, but after experimentation we found undersampling data is better for performance.\n",
    "\n",
    "We will uniformize the length of our tokenized sentences to 20 tokens."
   ]
  },
  {
   "cell_type": "code",
   "execution_count": 29,
   "metadata": {
    "colab": {},
    "colab_type": "code",
    "id": "XQ6GNU5cy__f"
   },
   "outputs": [],
   "source": [
    "df['tokens_minus_emotes'] = df['tokens_minus_emotes'].apply(lambda x: eval(x))\n",
    "df['pad_tokens'] = df['tokens_minus_emotes'].apply(lambda x: x[:20] if len(x) >= 20 else x+['']*(20-len(x)))"
   ]
  },
  {
   "cell_type": "markdown",
   "metadata": {
    "colab_type": "text",
    "id": "M85sYH9_djVt"
   },
   "source": [
    "There are several choices for pre-trained fastText models, but we chose the default model due to size contraints."
   ]
  },
  {
   "cell_type": "code",
   "execution_count": null,
   "metadata": {
    "colab": {},
    "colab_type": "code",
    "id": "YznsWXT7bpHW"
   },
   "outputs": [],
   "source": [
    "!pip install gluonnlp\n",
    "!pip install mxnet"
   ]
  },
  {
   "cell_type": "code",
   "execution_count": 26,
   "metadata": {
    "colab": {
     "base_uri": "https://localhost:8080/",
     "height": 110
    },
    "colab_type": "code",
    "id": "i8a8j8eHzAMn",
    "outputId": "6a1761a6-5e8e-4d04-9e20-81714a7c9e2c"
   },
   "outputs": [
    {
     "name": "stdout",
     "output_type": "stream",
     "text": [
      "Embedding file wiki.simple.npz is not found. Downloading from Gluon Repository. This may take some time.\n",
      "Downloading /root/.mxnet/embedding/fasttext/wiki.simple.npz from https://apache-mxnet.s3-accelerate.dualstack.amazonaws.com/gluon/embeddings/fasttext/wiki.simple.npz...\n",
      "Embedding file wiki.simple-67424112.bin is not found. Downloading from Gluon Repository. This may take some time.\n",
      "Downloading /root/.mxnet/embedding/fasttext/wiki.simple-67424112.bin from https://apache-mxnet.s3-accelerate.dualstack.amazonaws.com/gluon/embeddings/fasttext/wiki.simple-67424112.bin...\n"
     ]
    }
   ],
   "source": [
    "import gluonnlp as nlp\n",
    "import mxnet as mx\n",
    "\n",
    "fasttext = nlp.embedding.create('fasttext', source='wiki.simple', load_ngrams=True)\n",
    "tokenized = [i for i in df['pad_tokens']]\n",
    "tokens = [i for sub in tokenized for i in sub]\n",
    "counter = nlp.data.count_tokens(tokens)\n",
    "my_vocab = nlp.Vocab(counter)\n",
    "my_vocab.set_embedding(fasttext)"
   ]
  },
  {
   "cell_type": "markdown",
   "metadata": {
    "colab_type": "text",
    "id": "UQgJUgTFeDwe"
   },
   "source": [
    "We sample our data and save the embeddings since they take quite some time to create. The embeddings are 9 GB in total, and Google Colab limits the size of files that can be saved, so we split the embeddings into 3 chunks."
   ]
  },
  {
   "cell_type": "code",
   "execution_count": 27,
   "metadata": {
    "colab": {},
    "colab_type": "code",
    "id": "f-ps6cUlC126"
   },
   "outputs": [],
   "source": [
    "df_pog = df[df['pog'] == 1]\n",
    "df_kappa = df[df['kappa'] == 1]\n",
    "df_other = df[df['other'] == 1]\n",
    "\n",
    "n = 120000\n",
    "df_pograndom = df_pog.sample(n)\n",
    "df_kapparandom = df_kappa.sample(n)\n",
    "df_otherrandom = df_other.sample(n)\n",
    "\n",
    "df_sample = pd.concat([df_pograndom,df_kapparandom,df_otherrandom]).sample(frac=1)"
   ]
  },
  {
   "cell_type": "code",
   "execution_count": 30,
   "metadata": {
    "colab": {},
    "colab_type": "code",
    "id": "D8jVv4saDuwq"
   },
   "outputs": [],
   "source": [
    "subset_tokenized = [i for i in df_sample['pad_tokens']]\n",
    "embeddings = [my_vocab.embedding[i].asnumpy() for i in subset_tokenized]\n",
    "embeddings = np.array(embeddings)"
   ]
  },
  {
   "cell_type": "code",
   "execution_count": 34,
   "metadata": {
    "colab": {},
    "colab_type": "code",
    "id": "otKrQM03IA0A"
   },
   "outputs": [],
   "source": [
    "pickle.dump(embeddings[:120000],open(\"embeddings_array_0.pkl\", \"wb\"))\n",
    "pickle.dump(embeddings[120000:240000],open(\"embeddings_array_1.pkl\", \"wb\"))\n",
    "pickle.dump(embeddings[240000:],open(\"embeddings_array_2.pkl\", \"wb\"))"
   ]
  },
  {
   "cell_type": "markdown",
   "metadata": {
    "colab_type": "text",
    "id": "dumh8KZtJuJJ"
   },
   "source": [
    "## Learning\n",
    "\n",
    "We now move to creating and training our model. It is well-known that LSTM layers work better than other layers such as convolutional layers for NLP tasks due its ability to account for long term word dependencies as well as short toerm dependencies (hence the name Long Short-Term Memory). Bi-directional LSTM layers improve upon LSTM layers by taking into account word dependencies that arise after a word appears in text, as opposed to simply looking at words appearing before the word in a traditional LSTM layer. "
   ]
  },
  {
   "cell_type": "code",
   "execution_count": 88,
   "metadata": {
    "colab": {},
    "colab_type": "code",
    "id": "RJcqWrIelX1W"
   },
   "outputs": [],
   "source": [
    "X_0 = pickle.load(open(\"embeddings_array_0.pkl\", \"rb\"))\n",
    "X_1 = pickle.load(open(\"embeddings_array_1.pkl\", \"rb\"))\n",
    "X_2 = pickle.load(open(\"embeddings_array_2.pkl\", \"rb\"))"
   ]
  },
  {
   "cell_type": "code",
   "execution_count": 89,
   "metadata": {
    "colab": {},
    "colab_type": "code",
    "id": "4WgI4fIZKGHS"
   },
   "outputs": [],
   "source": [
    "X = np.concatenate((X_0,X_1,X_2),axis=0)"
   ]
  },
  {
   "cell_type": "code",
   "execution_count": 90,
   "metadata": {
    "colab": {},
    "colab_type": "code",
    "id": "e0EwQQcymqiF"
   },
   "outputs": [],
   "source": [
    "del X_0\n",
    "del X_1\n",
    "del X_2"
   ]
  },
  {
   "cell_type": "code",
   "execution_count": 37,
   "metadata": {
    "colab": {},
    "colab_type": "code",
    "id": "g5Yer-hoKKM8"
   },
   "outputs": [],
   "source": [
    "y = df_sample[['pog','kappa','other']].values\n",
    "# Saving y values is important due to connection with sampled data. Otherwise, labels will not correspond to the correct text if y values are obtained from repeating sampling steps above.\n",
    "pickle.dump(y,open(\"train_labels.pkl\",\"wb\"))"
   ]
  },
  {
   "cell_type": "code",
   "execution_count": 91,
   "metadata": {
    "colab": {},
    "colab_type": "code",
    "id": "iRKJ5ZOequxO"
   },
   "outputs": [],
   "source": [
    "y = pickle.load(open(\"train_labels.pkl\",\"rb\"))"
   ]
  },
  {
   "cell_type": "code",
   "execution_count": 92,
   "metadata": {
    "colab": {},
    "colab_type": "code",
    "id": "qV-BW2opKsm-"
   },
   "outputs": [],
   "source": [
    "# Split our data into train and test data.\n",
    "\n",
    "from sklearn.model_selection import train_test_split\n",
    "\n",
    "X_train, X_test, y_train, y_test = train_test_split(X, y, test_size=0.2, random_state=42, stratify = y)"
   ]
  },
  {
   "cell_type": "code",
   "execution_count": 93,
   "metadata": {
    "colab": {},
    "colab_type": "code",
    "id": "E7i24lCnLbWZ"
   },
   "outputs": [],
   "source": [
    "# X variable no longer needed.\n",
    "del X"
   ]
  },
  {
   "cell_type": "code",
   "execution_count": 6,
   "metadata": {
    "colab": {},
    "colab_type": "code",
    "id": "9IgeiquzJyuo"
   },
   "outputs": [],
   "source": [
    "from keras.preprocessing import sequence\n",
    "from keras.models import Sequential\n",
    "from keras.layers import Dense, Dropout, Embedding, LSTM, Bidirectional, Flatten, Input, BatchNormalization, Concatenate\n",
    "from keras.layers.convolutional import Conv1D\n",
    "from keras.layers.convolutional import MaxPooling1D\n",
    "from keras.optimizers import RMSprop\n",
    "from keras.regularizers import l2\n",
    "from keras.layers.embeddings import Embedding\n",
    "from keras.preprocessing import sequence\n",
    "from keras.models import Model"
   ]
  },
  {
   "cell_type": "markdown",
   "metadata": {
    "colab_type": "text",
    "id": "7YNlABW2mITm"
   },
   "source": [
    "We found more complicated models were not as effective. The validation accuracy of our model hovers at almost 57% if we reduce our learning rate to 0.001,  reduce the dropout rate, and use only one bidirectional LSTM layer."
   ]
  },
  {
   "cell_type": "code",
   "execution_count": 66,
   "metadata": {
    "colab": {
     "base_uri": "https://localhost:8080/",
     "height": 417
    },
    "colab_type": "code",
    "id": "2uM4SwHCgW6_",
    "outputId": "73759853-15ba-4eda-f113-76b3671afa37"
   },
   "outputs": [
    {
     "name": "stderr",
     "output_type": "stream",
     "text": [
      "WARNING:tensorflow:Layer lstm_67 will not use cuDNN kernel since it doesn't meet the cuDNN kernel criteria. It will use generic GPU kernel as fallback when running on GPU\n",
      "WARNING:tensorflow:Layer lstm_67 will not use cuDNN kernel since it doesn't meet the cuDNN kernel criteria. It will use generic GPU kernel as fallback when running on GPU\n",
      "WARNING:tensorflow:Layer lstm_67 will not use cuDNN kernel since it doesn't meet the cuDNN kernel criteria. It will use generic GPU kernel as fallback when running on GPU\n",
      "WARNING:tensorflow:Layer lstm_68 will not use cuDNN kernel since it doesn't meet the cuDNN kernel criteria. It will use generic GPU kernel as fallback when running on GPU\n",
      "WARNING:tensorflow:Layer lstm_69 will not use cuDNN kernel since it doesn't meet the cuDNN kernel criteria. It will use generic GPU kernel as fallback when running on GPU\n",
      "WARNING:tensorflow:Layer lstm_69 will not use cuDNN kernel since it doesn't meet the cuDNN kernel criteria. It will use generic GPU kernel as fallback when running on GPU\n",
      "WARNING:tensorflow:Layer lstm_69 will not use cuDNN kernel since it doesn't meet the cuDNN kernel criteria. It will use generic GPU kernel as fallback when running on GPU\n",
      "WARNING:tensorflow:Layer lstm_70 will not use cuDNN kernel since it doesn't meet the cuDNN kernel criteria. It will use generic GPU kernel as fallback when running on GPU\n",
      "WARNING:tensorflow:Layer lstm_71 will not use cuDNN kernel since it doesn't meet the cuDNN kernel criteria. It will use generic GPU kernel as fallback when running on GPU\n",
      "WARNING:tensorflow:Layer lstm_71 will not use cuDNN kernel since it doesn't meet the cuDNN kernel criteria. It will use generic GPU kernel as fallback when running on GPU\n",
      "WARNING:tensorflow:Layer lstm_71 will not use cuDNN kernel since it doesn't meet the cuDNN kernel criteria. It will use generic GPU kernel as fallback when running on GPU\n",
      "WARNING:tensorflow:Layer lstm_72 will not use cuDNN kernel since it doesn't meet the cuDNN kernel criteria. It will use generic GPU kernel as fallback when running on GPU\n",
      "WARNING:tensorflow:Layer lstm_73 will not use cuDNN kernel since it doesn't meet the cuDNN kernel criteria. It will use generic GPU kernel as fallback when running on GPU\n",
      "WARNING:tensorflow:Layer lstm_73 will not use cuDNN kernel since it doesn't meet the cuDNN kernel criteria. It will use generic GPU kernel as fallback when running on GPU\n",
      "WARNING:tensorflow:Layer lstm_73 will not use cuDNN kernel since it doesn't meet the cuDNN kernel criteria. It will use generic GPU kernel as fallback when running on GPU\n",
      "WARNING:tensorflow:Layer lstm_74 will not use cuDNN kernel since it doesn't meet the cuDNN kernel criteria. It will use generic GPU kernel as fallback when running on GPU\n",
      "WARNING:tensorflow:Layer lstm_75 will not use cuDNN kernel since it doesn't meet the cuDNN kernel criteria. It will use generic GPU kernel as fallback when running on GPU\n",
      "WARNING:tensorflow:Layer lstm_75 will not use cuDNN kernel since it doesn't meet the cuDNN kernel criteria. It will use generic GPU kernel as fallback when running on GPU\n",
      "WARNING:tensorflow:Layer lstm_75 will not use cuDNN kernel since it doesn't meet the cuDNN kernel criteria. It will use generic GPU kernel as fallback when running on GPU\n",
      "WARNING:tensorflow:Layer lstm_76 will not use cuDNN kernel since it doesn't meet the cuDNN kernel criteria. It will use generic GPU kernel as fallback when running on GPU\n",
      "WARNING:tensorflow:Layer lstm_76 will not use cuDNN kernel since it doesn't meet the cuDNN kernel criteria. It will use generic GPU kernel as fallback when running on GPU\n",
      "WARNING:tensorflow:Layer lstm_76 will not use cuDNN kernel since it doesn't meet the cuDNN kernel criteria. It will use generic GPU kernel as fallback when running on GPU\n"
     ]
    }
   ],
   "source": [
    "# model1 = Sequential()\n",
    "# model1.add(Bidirectional(LSTM(128,activation='relu',return_sequences=True),input_shape=(20, 300)))\n",
    "# model1.add(Dropout(0.5))\n",
    "# model1.add(Conv1D(filters=128, kernel_size=3, activation='relu', kernel_regularizer=l2(0.01)))\n",
    "# model1.add(MaxPooling1D(pool_size=2))\n",
    "# model1.add(Dropout(0.5))\n",
    "# model1.add(BatchNormalization())\n",
    "# model1.add(LSTM(128,activation='relu',return_sequences=True))\n",
    "\n",
    "# model2 = Sequential()\n",
    "# model2.add(Bidirectional(LSTM(128,activation='relu',return_sequences=True),input_shape=(20, 300)))\n",
    "# model2.add(Dropout(0.5))\n",
    "# model2.add(Conv1D(filters=128, kernel_size=5, activation='relu', kernel_regularizer=l2(0.01)))\n",
    "# model2.add(MaxPooling1D(pool_size=2))\n",
    "# model2.add(Dropout(0.5))\n",
    "# model2.add(BatchNormalization())\n",
    "# model2.add(LSTM(128,activation='relu',return_sequences=True))\n",
    "\n",
    "# model3 = Sequential()\n",
    "# model3.add(Bidirectional(LSTM(128,activation='relu',return_sequences=True),input_shape=(20, 300)))\n",
    "# model3.add(Dropout(0.5))\n",
    "# model3.add(Conv1D(filters=128, kernel_size=7, activation='relu', kernel_regularizer=l2(0.01)))\n",
    "# model3.add(MaxPooling1D(pool_size=2))\n",
    "# model3.add(Dropout(0.5))\n",
    "# model3.add(BatchNormalization())\n",
    "# model3.add(LSTM(128,activation='relu',return_sequences=True))\n",
    "\n",
    "# model4 = Sequential()\n",
    "# model4.add(Bidirectional(LSTM(128,activation='relu',return_sequences=True),input_shape=(20, 300)))\n",
    "# model4.add(Dropout(0.5))\n",
    "# model4.add(Conv1D(filters=128, kernel_size=9, activation='relu', kernel_regularizer=l2(0.01)))\n",
    "# model4.add(MaxPooling1D(pool_size=2))\n",
    "# model4.add(Dropout(0.5))\n",
    "# model4.add(BatchNormalization())\n",
    "# model4.add(LSTM(128,activation='relu',return_sequences=True))\n",
    "\n",
    "# merged = Concatenate(axis=1)([model1.output,model2.output,model3.output,model4.output])\n",
    "# merged = Bidirectional(LSTM(128,activation='relu',return_sequences=True))(merged)\n",
    "# merged = Dropout(0.5)(merged)\n",
    "# merged = Bidirectional(LSTM(128,activation='relu',return_sequences=False))(merged)\n",
    "# merged = Dropout(0.5)(merged)\n",
    "# merged = Dense(128, activation='relu')(merged)\n",
    "# merged = Dropout(0.5)(merged)\n",
    "# merged = Dense(3, activation='softmax')(merged)\n",
    "# model = Model([model1.input,model2.input,model3.input,model4.input], merged)"
   ]
  },
  {
   "cell_type": "code",
   "execution_count": 7,
   "metadata": {
    "colab": {
     "base_uri": "https://localhost:8080/",
     "height": 72
    },
    "colab_type": "code",
    "id": "BgcNwcGPlioP",
    "outputId": "ac355ea1-fa8a-4534-c6d6-7425243608cc"
   },
   "outputs": [
    {
     "name": "stdout",
     "output_type": "stream",
     "text": [
      "WARNING:tensorflow:Layer lstm will not use cuDNN kernel since it doesn't meet the cuDNN kernel criteria. It will use generic GPU kernel as fallback when running on GPU\n",
      "WARNING:tensorflow:Layer lstm will not use cuDNN kernel since it doesn't meet the cuDNN kernel criteria. It will use generic GPU kernel as fallback when running on GPU\n",
      "WARNING:tensorflow:Layer lstm will not use cuDNN kernel since it doesn't meet the cuDNN kernel criteria. It will use generic GPU kernel as fallback when running on GPU\n"
     ]
    }
   ],
   "source": [
    "model = Sequential()\n",
    "model.add(Bidirectional(LSTM(128,activation='relu',return_sequences=False),input_shape=(20, 300)))\n",
    "model.add(Dropout(0.2))\n",
    "# model.add(Bidirectional(LSTM(128,activation='relu',return_sequences=False)))\n",
    "# model.add(Dropout(0.2))\n",
    "# model.add(Dense(64, activation='relu'))\n",
    "# model.add(Dropout(0.2))\n",
    "model.add(Dense(3, activation='softmax'))"
   ]
  },
  {
   "cell_type": "code",
   "execution_count": 49,
   "metadata": {
    "colab": {
     "base_uri": "https://localhost:8080/",
     "height": 526
    },
    "colab_type": "code",
    "id": "Kj2OJrISzEu_",
    "outputId": "7fcfbcb6-0a14-4d4e-e4d2-82c01f050982"
   },
   "outputs": [
    {
     "name": "stdout",
     "output_type": "stream",
     "text": [
      "Epoch 1/10\n",
      "9000/9000 [==============================] - ETA: 0s - loss: 0.5567 - acc: 0.5243INFO:tensorflow:Assets written to: /content/drive/My Drive/assets\n"
     ]
    },
    {
     "name": "stderr",
     "output_type": "stream",
     "text": [
      "INFO:tensorflow:Assets written to: /content/drive/My Drive/assets\n"
     ]
    },
    {
     "name": "stdout",
     "output_type": "stream",
     "text": [
      "9000/9000 [==============================] - 222s 25ms/step - loss: 0.5567 - acc: 0.5243 - val_loss: 0.5370 - val_acc: 0.5508\n",
      "Epoch 2/10\n",
      "8999/9000 [============================>.] - ETA: 0s - loss: 0.5336 - acc: 0.5580INFO:tensorflow:Assets written to: /content/drive/My Drive/assets\n"
     ]
    },
    {
     "name": "stderr",
     "output_type": "stream",
     "text": [
      "INFO:tensorflow:Assets written to: /content/drive/My Drive/assets\n"
     ]
    },
    {
     "name": "stdout",
     "output_type": "stream",
     "text": [
      "9000/9000 [==============================] - 222s 25ms/step - loss: 0.5336 - acc: 0.5580 - val_loss: 0.5319 - val_acc: 0.5597\n",
      "Epoch 3/10\n",
      "8998/9000 [============================>.] - ETA: 0s - loss: 0.5222 - acc: 0.5756INFO:tensorflow:Assets written to: /content/drive/My Drive/assets\n"
     ]
    },
    {
     "name": "stderr",
     "output_type": "stream",
     "text": [
      "INFO:tensorflow:Assets written to: /content/drive/My Drive/assets\n"
     ]
    },
    {
     "name": "stdout",
     "output_type": "stream",
     "text": [
      "9000/9000 [==============================] - 223s 25ms/step - loss: 0.5222 - acc: 0.5756 - val_loss: 0.5268 - val_acc: 0.5661\n",
      "Epoch 4/10\n",
      "8998/9000 [============================>.] - ETA: 0s - loss: 0.5084 - acc: 0.5910INFO:tensorflow:Assets written to: /content/drive/My Drive/assets\n"
     ]
    },
    {
     "name": "stderr",
     "output_type": "stream",
     "text": [
      "INFO:tensorflow:Assets written to: /content/drive/My Drive/assets\n"
     ]
    },
    {
     "name": "stdout",
     "output_type": "stream",
     "text": [
      "9000/9000 [==============================] - 227s 25ms/step - loss: 0.5084 - acc: 0.5910 - val_loss: 0.5263 - val_acc: 0.5687\n",
      "Epoch 5/10\n",
      "9000/9000 [==============================] - 225s 25ms/step - loss: 0.4958 - acc: 0.6064 - val_loss: 0.5321 - val_acc: 0.5660\n",
      "Epoch 6/10\n",
      "9000/9000 [==============================] - 223s 25ms/step - loss: 0.4828 - acc: 0.6226 - val_loss: 0.5384 - val_acc: 0.5647\n",
      "Epoch 7/10\n",
      "9000/9000 [==============================] - 222s 25ms/step - loss: 0.4663 - acc: 0.6407 - val_loss: 0.5408 - val_acc: 0.5664\n",
      "Epoch 8/10\n",
      "9000/9000 [==============================] - 222s 25ms/step - loss: 0.4551 - acc: 0.6516 - val_loss: 0.5532 - val_acc: 0.5606\n",
      "Epoch 9/10\n",
      "9000/9000 [==============================] - 222s 25ms/step - loss: 0.4426 - acc: 0.6651 - val_loss: 0.5652 - val_acc: 0.5617\n",
      "Epoch 10/10\n",
      "9000/9000 [==============================] - 222s 25ms/step - loss: 0.4276 - acc: 0.6792 - val_loss: 0.5729 - val_acc: 0.5575\n"
     ]
    }
   ],
   "source": [
    "import keras\n",
    "from keras.callbacks import ModelCheckpoint\n",
    "\n",
    "checkpoint_filepath = '/content/drive/My Drive/'\n",
    "model_checkpoint_callback = ModelCheckpoint(\n",
    "    filepath=checkpoint_filepath,\n",
    "    save_freq=\"epoch\",\n",
    "    monitor='val_acc',\n",
    "    mode='max',\n",
    "    save_best_only=True)\n",
    "\n",
    "opt = keras.optimizers.Adam(learning_rate=0.001)\n",
    "# compile the model\n",
    "model.compile(optimizer=opt, loss='binary_crossentropy', metrics=['acc'])\n",
    "\n",
    "# fit the model\n",
    "history = model.fit(X_train, y_train, validation_data=(X_test, y_test), batch_size=32, epochs=10, verbose=1, callbacks=[model_checkpoint_callback])"
   ]
  },
  {
   "cell_type": "code",
   "execution_count": 50,
   "metadata": {
    "colab": {},
    "colab_type": "code",
    "id": "0zQyZ_7JKDYp"
   },
   "outputs": [],
   "source": [
    "# Save the history of model.\n",
    "pickle.dump(history.history,open(\"BLSTM_1layer_128_nodense_001_dropout_2_history.pkl\",\"wb\"))"
   ]
  },
  {
   "cell_type": "code",
   "execution_count": 22,
   "metadata": {
    "colab": {
     "base_uri": "https://localhost:8080/",
     "height": 72
    },
    "colab_type": "code",
    "id": "BRUYIpchKEZE",
    "outputId": "f4c3e936-22d1-4dfd-9b59-f45698c90fda"
   },
   "outputs": [
    {
     "name": "stdout",
     "output_type": "stream",
     "text": [
      "WARNING:tensorflow:Layer lstm_2 will not use cuDNN kernel since it doesn't meet the cuDNN kernel criteria. It will use generic GPU kernel as fallback when running on GPU\n",
      "WARNING:tensorflow:Layer lstm_2 will not use cuDNN kernel since it doesn't meet the cuDNN kernel criteria. It will use generic GPU kernel as fallback when running on GPU\n",
      "WARNING:tensorflow:Layer lstm_2 will not use cuDNN kernel since it doesn't meet the cuDNN kernel criteria. It will use generic GPU kernel as fallback when running on GPU\n"
     ]
    }
   ],
   "source": [
    "from keras import models\n",
    "model = models.load_model('/content/drive/My Drive')"
   ]
  },
  {
   "cell_type": "markdown",
   "metadata": {
    "colab_type": "text",
    "id": "rr1NWLZInrHP"
   },
   "source": [
    "Let us see how our model does on some typical phrases one might encounter in a Twitch chat room."
   ]
  },
  {
   "cell_type": "code",
   "execution_count": 84,
   "metadata": {
    "colab": {},
    "colab_type": "code",
    "id": "8FTr-G3tNgVf"
   },
   "outputs": [],
   "source": [
    "def pad_tokens(tokens):\n",
    "  if len(tokens) <= 20:\n",
    "    return tokens + ['']*(20-len(tokens))\n",
    "  else:\n",
    "    return tokens[:20]"
   ]
  },
  {
   "cell_type": "code",
   "execution_count": 86,
   "metadata": {
    "colab": {
     "base_uri": "https://localhost:8080/",
     "height": 163
    },
    "colab_type": "code",
    "id": "J4_wjypRKEBX",
    "outputId": "215a9981-e827-4986-d4f6-059da497b325"
   },
   "outputs": [
    {
     "name": "stdout",
     "output_type": "stream",
     "text": [
      "[[0.77403605 0.09540284 0.13056111]]\n",
      "[[0.8009759  0.03310856 0.16591558]]\n",
      "[[0.185889  0.2549253 0.5591857]]\n",
      "[[0.87675506 0.01605767 0.10718738]]\n",
      "[[0.74187857 0.05576095 0.20236048]]\n",
      "[[0.9318048  0.01210221 0.05609291]]\n",
      "[[0.5296722  0.0873668  0.38296106]]\n",
      "[[0.26790884 0.34094304 0.39114812]]\n"
     ]
    }
   ],
   "source": [
    "import twokenize\n",
    "\n",
    "some_sentences = ['ur a god', 'genius', 'ur trash', 'woah', 'amazing', 'legendary', 'omg', 'never seen someone so bad in my life']\n",
    "some_tokenized_sentences = [twokenize.tokenizeRawTweetText(x) for x in some_sentences]\n",
    "for sentence in some_tokenized_sentences:\n",
    "  x = pad_tokens(sentence)\n",
    "  print(model.predict(my_vocab.embedding[x].asnumpy().reshape((1,20,300))))"
   ]
  },
  {
   "cell_type": "markdown",
   "metadata": {
    "colab_type": "text",
    "id": "tUtbkYQzpWq5"
   },
   "source": [
    "In the simple examples given above, we can see that the model correctly classifies every message. One possible reason for the somewhat poor model performance overall is that we were unable to filter our messages enough. Another reason, one which likely has a more significant effect, is that the \"other\" category is too ambiguous, and likely contains emotes that are similar in function to \"pog\"-type and \"kappa\"-type emotes. We will perform a check using a confusion matrix."
   ]
  },
  {
   "cell_type": "code",
   "execution_count": 111,
   "metadata": {
    "colab": {
     "base_uri": "https://localhost:8080/",
     "height": 235
    },
    "colab_type": "code",
    "id": "jAfdvDbAuNLl",
    "outputId": "2e9daa38-76bb-4431-9f2d-46f488b12f88"
   },
   "outputs": [
    {
     "name": "stdout",
     "output_type": "stream",
     "text": [
      "Requirement already satisfied: bokeh in /usr/local/lib/python3.6/dist-packages (2.1.1)\n",
      "Requirement already satisfied: numpy>=1.11.3 in /usr/local/lib/python3.6/dist-packages (from bokeh) (1.18.5)\n",
      "Requirement already satisfied: typing-extensions>=3.7.4 in /usr/local/lib/python3.6/dist-packages (from bokeh) (3.7.4.3)\n",
      "Requirement already satisfied: pillow>=4.0 in /usr/local/lib/python3.6/dist-packages (from bokeh) (7.0.0)\n",
      "Requirement already satisfied: tornado>=5.1 in /usr/local/lib/python3.6/dist-packages (from bokeh) (5.1.1)\n",
      "Requirement already satisfied: Jinja2>=2.7 in /usr/local/lib/python3.6/dist-packages (from bokeh) (2.11.2)\n",
      "Requirement already satisfied: packaging>=16.8 in /usr/local/lib/python3.6/dist-packages (from bokeh) (20.4)\n",
      "Requirement already satisfied: PyYAML>=3.10 in /usr/local/lib/python3.6/dist-packages (from bokeh) (3.13)\n",
      "Requirement already satisfied: python-dateutil>=2.1 in /usr/local/lib/python3.6/dist-packages (from bokeh) (2.8.1)\n",
      "Requirement already satisfied: MarkupSafe>=0.23 in /usr/local/lib/python3.6/dist-packages (from Jinja2>=2.7->bokeh) (1.1.1)\n",
      "Requirement already satisfied: pyparsing>=2.0.2 in /usr/local/lib/python3.6/dist-packages (from packaging>=16.8->bokeh) (2.4.7)\n",
      "Requirement already satisfied: six in /usr/local/lib/python3.6/dist-packages (from packaging>=16.8->bokeh) (1.15.0)\n"
     ]
    }
   ],
   "source": [
    "!pip install bokeh"
   ]
  },
  {
   "cell_type": "code",
   "execution_count": 5,
   "metadata": {
    "colab": {},
    "colab_type": "code",
    "id": "sUvbKTzGt6Ms"
   },
   "outputs": [
    {
     "data": {
      "text/html": [
       "\n",
       "    <div class=\"bk-root\">\n",
       "        <a href=\"https://bokeh.org\" target=\"_blank\" class=\"bk-logo bk-logo-small bk-logo-notebook\"></a>\n",
       "        <span id=\"1001\">Loading BokehJS ...</span>\n",
       "    </div>"
      ]
     },
     "metadata": {},
     "output_type": "display_data"
    },
    {
     "data": {
      "application/javascript": [
       "\n",
       "(function(root) {\n",
       "  function now() {\n",
       "    return new Date();\n",
       "  }\n",
       "\n",
       "  var force = true;\n",
       "\n",
       "  if (typeof root._bokeh_onload_callbacks === \"undefined\" || force === true) {\n",
       "    root._bokeh_onload_callbacks = [];\n",
       "    root._bokeh_is_loading = undefined;\n",
       "  }\n",
       "\n",
       "  var JS_MIME_TYPE = 'application/javascript';\n",
       "  var HTML_MIME_TYPE = 'text/html';\n",
       "  var EXEC_MIME_TYPE = 'application/vnd.bokehjs_exec.v0+json';\n",
       "  var CLASS_NAME = 'output_bokeh rendered_html';\n",
       "\n",
       "  /**\n",
       "   * Render data to the DOM node\n",
       "   */\n",
       "  function render(props, node) {\n",
       "    var script = document.createElement(\"script\");\n",
       "    node.appendChild(script);\n",
       "  }\n",
       "\n",
       "  /**\n",
       "   * Handle when an output is cleared or removed\n",
       "   */\n",
       "  function handleClearOutput(event, handle) {\n",
       "    var cell = handle.cell;\n",
       "\n",
       "    var id = cell.output_area._bokeh_element_id;\n",
       "    var server_id = cell.output_area._bokeh_server_id;\n",
       "    // Clean up Bokeh references\n",
       "    if (id != null && id in Bokeh.index) {\n",
       "      Bokeh.index[id].model.document.clear();\n",
       "      delete Bokeh.index[id];\n",
       "    }\n",
       "\n",
       "    if (server_id !== undefined) {\n",
       "      // Clean up Bokeh references\n",
       "      var cmd = \"from bokeh.io.state import curstate; print(curstate().uuid_to_server['\" + server_id + \"'].get_sessions()[0].document.roots[0]._id)\";\n",
       "      cell.notebook.kernel.execute(cmd, {\n",
       "        iopub: {\n",
       "          output: function(msg) {\n",
       "            var id = msg.content.text.trim();\n",
       "            if (id in Bokeh.index) {\n",
       "              Bokeh.index[id].model.document.clear();\n",
       "              delete Bokeh.index[id];\n",
       "            }\n",
       "          }\n",
       "        }\n",
       "      });\n",
       "      // Destroy server and session\n",
       "      var cmd = \"import bokeh.io.notebook as ion; ion.destroy_server('\" + server_id + \"')\";\n",
       "      cell.notebook.kernel.execute(cmd);\n",
       "    }\n",
       "  }\n",
       "\n",
       "  /**\n",
       "   * Handle when a new output is added\n",
       "   */\n",
       "  function handleAddOutput(event, handle) {\n",
       "    var output_area = handle.output_area;\n",
       "    var output = handle.output;\n",
       "\n",
       "    // limit handleAddOutput to display_data with EXEC_MIME_TYPE content only\n",
       "    if ((output.output_type != \"display_data\") || (!output.data.hasOwnProperty(EXEC_MIME_TYPE))) {\n",
       "      return\n",
       "    }\n",
       "\n",
       "    var toinsert = output_area.element.find(\".\" + CLASS_NAME.split(' ')[0]);\n",
       "\n",
       "    if (output.metadata[EXEC_MIME_TYPE][\"id\"] !== undefined) {\n",
       "      toinsert[toinsert.length - 1].firstChild.textContent = output.data[JS_MIME_TYPE];\n",
       "      // store reference to embed id on output_area\n",
       "      output_area._bokeh_element_id = output.metadata[EXEC_MIME_TYPE][\"id\"];\n",
       "    }\n",
       "    if (output.metadata[EXEC_MIME_TYPE][\"server_id\"] !== undefined) {\n",
       "      var bk_div = document.createElement(\"div\");\n",
       "      bk_div.innerHTML = output.data[HTML_MIME_TYPE];\n",
       "      var script_attrs = bk_div.children[0].attributes;\n",
       "      for (var i = 0; i < script_attrs.length; i++) {\n",
       "        toinsert[toinsert.length - 1].firstChild.setAttribute(script_attrs[i].name, script_attrs[i].value);\n",
       "        toinsert[toinsert.length - 1].firstChild.textContent = bk_div.children[0].textContent\n",
       "      }\n",
       "      // store reference to server id on output_area\n",
       "      output_area._bokeh_server_id = output.metadata[EXEC_MIME_TYPE][\"server_id\"];\n",
       "    }\n",
       "  }\n",
       "\n",
       "  function register_renderer(events, OutputArea) {\n",
       "\n",
       "    function append_mime(data, metadata, element) {\n",
       "      // create a DOM node to render to\n",
       "      var toinsert = this.create_output_subarea(\n",
       "        metadata,\n",
       "        CLASS_NAME,\n",
       "        EXEC_MIME_TYPE\n",
       "      );\n",
       "      this.keyboard_manager.register_events(toinsert);\n",
       "      // Render to node\n",
       "      var props = {data: data, metadata: metadata[EXEC_MIME_TYPE]};\n",
       "      render(props, toinsert[toinsert.length - 1]);\n",
       "      element.append(toinsert);\n",
       "      return toinsert\n",
       "    }\n",
       "\n",
       "    /* Handle when an output is cleared or removed */\n",
       "    events.on('clear_output.CodeCell', handleClearOutput);\n",
       "    events.on('delete.Cell', handleClearOutput);\n",
       "\n",
       "    /* Handle when a new output is added */\n",
       "    events.on('output_added.OutputArea', handleAddOutput);\n",
       "\n",
       "    /**\n",
       "     * Register the mime type and append_mime function with output_area\n",
       "     */\n",
       "    OutputArea.prototype.register_mime_type(EXEC_MIME_TYPE, append_mime, {\n",
       "      /* Is output safe? */\n",
       "      safe: true,\n",
       "      /* Index of renderer in `output_area.display_order` */\n",
       "      index: 0\n",
       "    });\n",
       "  }\n",
       "\n",
       "  // register the mime type if in Jupyter Notebook environment and previously unregistered\n",
       "  if (root.Jupyter !== undefined) {\n",
       "    var events = require('base/js/events');\n",
       "    var OutputArea = require('notebook/js/outputarea').OutputArea;\n",
       "\n",
       "    if (OutputArea.prototype.mime_types().indexOf(EXEC_MIME_TYPE) == -1) {\n",
       "      register_renderer(events, OutputArea);\n",
       "    }\n",
       "  }\n",
       "\n",
       "  \n",
       "  if (typeof (root._bokeh_timeout) === \"undefined\" || force === true) {\n",
       "    root._bokeh_timeout = Date.now() + 5000;\n",
       "    root._bokeh_failed_load = false;\n",
       "  }\n",
       "\n",
       "  var NB_LOAD_WARNING = {'data': {'text/html':\n",
       "     \"<div style='background-color: #fdd'>\\n\"+\n",
       "     \"<p>\\n\"+\n",
       "     \"BokehJS does not appear to have successfully loaded. If loading BokehJS from CDN, this \\n\"+\n",
       "     \"may be due to a slow or bad network connection. Possible fixes:\\n\"+\n",
       "     \"</p>\\n\"+\n",
       "     \"<ul>\\n\"+\n",
       "     \"<li>re-rerun `output_notebook()` to attempt to load from CDN again, or</li>\\n\"+\n",
       "     \"<li>use INLINE resources instead, as so:</li>\\n\"+\n",
       "     \"</ul>\\n\"+\n",
       "     \"<code>\\n\"+\n",
       "     \"from bokeh.resources import INLINE\\n\"+\n",
       "     \"output_notebook(resources=INLINE)\\n\"+\n",
       "     \"</code>\\n\"+\n",
       "     \"</div>\"}};\n",
       "\n",
       "  function display_loaded() {\n",
       "    var el = document.getElementById(\"1001\");\n",
       "    if (el != null) {\n",
       "      el.textContent = \"BokehJS is loading...\";\n",
       "    }\n",
       "    if (root.Bokeh !== undefined) {\n",
       "      if (el != null) {\n",
       "        el.textContent = \"BokehJS \" + root.Bokeh.version + \" successfully loaded.\";\n",
       "      }\n",
       "    } else if (Date.now() < root._bokeh_timeout) {\n",
       "      setTimeout(display_loaded, 100)\n",
       "    }\n",
       "  }\n",
       "\n",
       "\n",
       "  function run_callbacks() {\n",
       "    try {\n",
       "      root._bokeh_onload_callbacks.forEach(function(callback) {\n",
       "        if (callback != null)\n",
       "          callback();\n",
       "      });\n",
       "    } finally {\n",
       "      delete root._bokeh_onload_callbacks\n",
       "    }\n",
       "    console.debug(\"Bokeh: all callbacks have finished\");\n",
       "  }\n",
       "\n",
       "  function load_libs(css_urls, js_urls, callback) {\n",
       "    if (css_urls == null) css_urls = [];\n",
       "    if (js_urls == null) js_urls = [];\n",
       "\n",
       "    root._bokeh_onload_callbacks.push(callback);\n",
       "    if (root._bokeh_is_loading > 0) {\n",
       "      console.debug(\"Bokeh: BokehJS is being loaded, scheduling callback at\", now());\n",
       "      return null;\n",
       "    }\n",
       "    if (js_urls == null || js_urls.length === 0) {\n",
       "      run_callbacks();\n",
       "      return null;\n",
       "    }\n",
       "    console.debug(\"Bokeh: BokehJS not loaded, scheduling load and callback at\", now());\n",
       "    root._bokeh_is_loading = css_urls.length + js_urls.length;\n",
       "\n",
       "    function on_load() {\n",
       "      root._bokeh_is_loading--;\n",
       "      if (root._bokeh_is_loading === 0) {\n",
       "        console.debug(\"Bokeh: all BokehJS libraries/stylesheets loaded\");\n",
       "        run_callbacks()\n",
       "      }\n",
       "    }\n",
       "\n",
       "    function on_error() {\n",
       "      console.error(\"failed to load \" + url);\n",
       "    }\n",
       "\n",
       "    for (var i = 0; i < css_urls.length; i++) {\n",
       "      var url = css_urls[i];\n",
       "      const element = document.createElement(\"link\");\n",
       "      element.onload = on_load;\n",
       "      element.onerror = on_error;\n",
       "      element.rel = \"stylesheet\";\n",
       "      element.type = \"text/css\";\n",
       "      element.href = url;\n",
       "      console.debug(\"Bokeh: injecting link tag for BokehJS stylesheet: \", url);\n",
       "      document.body.appendChild(element);\n",
       "    }\n",
       "\n",
       "    const hashes = {\"https://cdn.bokeh.org/bokeh/release/bokeh-2.0.2.min.js\": \"ufR9RFnRs6lniiaFvtJziE0YeidtAgBRH6ux2oUItHw5WTvE1zuk9uzhUU/FJXDp\", \"https://cdn.bokeh.org/bokeh/release/bokeh-widgets-2.0.2.min.js\": \"8QM/PGWBT+IssZuRcDcjzwIh1mkOmJSoNMmyYDZbCfXJg3Ap1lEvdVgFuSAwhb/J\", \"https://cdn.bokeh.org/bokeh/release/bokeh-tables-2.0.2.min.js\": \"Jm8cH3Rg0P6UeZhVY5cLy1WzKajUT9KImCY+76hEqrcJt59/d8GPvFHjCkYgnSIn\", \"https://cdn.bokeh.org/bokeh/release/bokeh-gl-2.0.2.min.js\": \"Ozhzj+SI7ywm74aOI/UajcWz+C0NjsPunEVyVIrxzYkB+jA+2tUw8x5xJCbVtK5I\"};\n",
       "\n",
       "    for (var i = 0; i < js_urls.length; i++) {\n",
       "      var url = js_urls[i];\n",
       "      var element = document.createElement('script');\n",
       "      element.onload = on_load;\n",
       "      element.onerror = on_error;\n",
       "      element.async = false;\n",
       "      element.src = url;\n",
       "      if (url in hashes) {\n",
       "        element.crossOrigin = \"anonymous\";\n",
       "        element.integrity = \"sha384-\" + hashes[url];\n",
       "      }\n",
       "      console.debug(\"Bokeh: injecting script tag for BokehJS library: \", url);\n",
       "      document.head.appendChild(element);\n",
       "    }\n",
       "  };\n",
       "\n",
       "  function inject_raw_css(css) {\n",
       "    const element = document.createElement(\"style\");\n",
       "    element.appendChild(document.createTextNode(css));\n",
       "    document.body.appendChild(element);\n",
       "  }\n",
       "\n",
       "  \n",
       "  var js_urls = [\"https://cdn.bokeh.org/bokeh/release/bokeh-2.0.2.min.js\", \"https://cdn.bokeh.org/bokeh/release/bokeh-widgets-2.0.2.min.js\", \"https://cdn.bokeh.org/bokeh/release/bokeh-tables-2.0.2.min.js\", \"https://cdn.bokeh.org/bokeh/release/bokeh-gl-2.0.2.min.js\"];\n",
       "  var css_urls = [];\n",
       "  \n",
       "\n",
       "  var inline_js = [\n",
       "    function(Bokeh) {\n",
       "      Bokeh.set_log_level(\"info\");\n",
       "    },\n",
       "    function(Bokeh) {\n",
       "    \n",
       "    \n",
       "    }\n",
       "  ];\n",
       "\n",
       "  function run_inline_js() {\n",
       "    \n",
       "    if (root.Bokeh !== undefined || force === true) {\n",
       "      \n",
       "    for (var i = 0; i < inline_js.length; i++) {\n",
       "      inline_js[i].call(root, root.Bokeh);\n",
       "    }\n",
       "    if (force === true) {\n",
       "        display_loaded();\n",
       "      }} else if (Date.now() < root._bokeh_timeout) {\n",
       "      setTimeout(run_inline_js, 100);\n",
       "    } else if (!root._bokeh_failed_load) {\n",
       "      console.log(\"Bokeh: BokehJS failed to load within specified timeout.\");\n",
       "      root._bokeh_failed_load = true;\n",
       "    } else if (force !== true) {\n",
       "      var cell = $(document.getElementById(\"1001\")).parents('.cell').data().cell;\n",
       "      cell.output_area.append_execute_result(NB_LOAD_WARNING)\n",
       "    }\n",
       "\n",
       "  }\n",
       "\n",
       "  if (root._bokeh_is_loading === 0) {\n",
       "    console.debug(\"Bokeh: BokehJS loaded, going straight to plotting\");\n",
       "    run_inline_js();\n",
       "  } else {\n",
       "    load_libs(css_urls, js_urls, function() {\n",
       "      console.debug(\"Bokeh: BokehJS plotting callback run at\", now());\n",
       "      run_inline_js();\n",
       "    });\n",
       "  }\n",
       "}(window));"
      ],
      "application/vnd.bokehjs_load.v0+json": "\n(function(root) {\n  function now() {\n    return new Date();\n  }\n\n  var force = true;\n\n  if (typeof root._bokeh_onload_callbacks === \"undefined\" || force === true) {\n    root._bokeh_onload_callbacks = [];\n    root._bokeh_is_loading = undefined;\n  }\n\n  \n\n  \n  if (typeof (root._bokeh_timeout) === \"undefined\" || force === true) {\n    root._bokeh_timeout = Date.now() + 5000;\n    root._bokeh_failed_load = false;\n  }\n\n  var NB_LOAD_WARNING = {'data': {'text/html':\n     \"<div style='background-color: #fdd'>\\n\"+\n     \"<p>\\n\"+\n     \"BokehJS does not appear to have successfully loaded. If loading BokehJS from CDN, this \\n\"+\n     \"may be due to a slow or bad network connection. Possible fixes:\\n\"+\n     \"</p>\\n\"+\n     \"<ul>\\n\"+\n     \"<li>re-rerun `output_notebook()` to attempt to load from CDN again, or</li>\\n\"+\n     \"<li>use INLINE resources instead, as so:</li>\\n\"+\n     \"</ul>\\n\"+\n     \"<code>\\n\"+\n     \"from bokeh.resources import INLINE\\n\"+\n     \"output_notebook(resources=INLINE)\\n\"+\n     \"</code>\\n\"+\n     \"</div>\"}};\n\n  function display_loaded() {\n    var el = document.getElementById(\"1001\");\n    if (el != null) {\n      el.textContent = \"BokehJS is loading...\";\n    }\n    if (root.Bokeh !== undefined) {\n      if (el != null) {\n        el.textContent = \"BokehJS \" + root.Bokeh.version + \" successfully loaded.\";\n      }\n    } else if (Date.now() < root._bokeh_timeout) {\n      setTimeout(display_loaded, 100)\n    }\n  }\n\n\n  function run_callbacks() {\n    try {\n      root._bokeh_onload_callbacks.forEach(function(callback) {\n        if (callback != null)\n          callback();\n      });\n    } finally {\n      delete root._bokeh_onload_callbacks\n    }\n    console.debug(\"Bokeh: all callbacks have finished\");\n  }\n\n  function load_libs(css_urls, js_urls, callback) {\n    if (css_urls == null) css_urls = [];\n    if (js_urls == null) js_urls = [];\n\n    root._bokeh_onload_callbacks.push(callback);\n    if (root._bokeh_is_loading > 0) {\n      console.debug(\"Bokeh: BokehJS is being loaded, scheduling callback at\", now());\n      return null;\n    }\n    if (js_urls == null || js_urls.length === 0) {\n      run_callbacks();\n      return null;\n    }\n    console.debug(\"Bokeh: BokehJS not loaded, scheduling load and callback at\", now());\n    root._bokeh_is_loading = css_urls.length + js_urls.length;\n\n    function on_load() {\n      root._bokeh_is_loading--;\n      if (root._bokeh_is_loading === 0) {\n        console.debug(\"Bokeh: all BokehJS libraries/stylesheets loaded\");\n        run_callbacks()\n      }\n    }\n\n    function on_error() {\n      console.error(\"failed to load \" + url);\n    }\n\n    for (var i = 0; i < css_urls.length; i++) {\n      var url = css_urls[i];\n      const element = document.createElement(\"link\");\n      element.onload = on_load;\n      element.onerror = on_error;\n      element.rel = \"stylesheet\";\n      element.type = \"text/css\";\n      element.href = url;\n      console.debug(\"Bokeh: injecting link tag for BokehJS stylesheet: \", url);\n      document.body.appendChild(element);\n    }\n\n    const hashes = {\"https://cdn.bokeh.org/bokeh/release/bokeh-2.0.2.min.js\": \"ufR9RFnRs6lniiaFvtJziE0YeidtAgBRH6ux2oUItHw5WTvE1zuk9uzhUU/FJXDp\", \"https://cdn.bokeh.org/bokeh/release/bokeh-widgets-2.0.2.min.js\": \"8QM/PGWBT+IssZuRcDcjzwIh1mkOmJSoNMmyYDZbCfXJg3Ap1lEvdVgFuSAwhb/J\", \"https://cdn.bokeh.org/bokeh/release/bokeh-tables-2.0.2.min.js\": \"Jm8cH3Rg0P6UeZhVY5cLy1WzKajUT9KImCY+76hEqrcJt59/d8GPvFHjCkYgnSIn\", \"https://cdn.bokeh.org/bokeh/release/bokeh-gl-2.0.2.min.js\": \"Ozhzj+SI7ywm74aOI/UajcWz+C0NjsPunEVyVIrxzYkB+jA+2tUw8x5xJCbVtK5I\"};\n\n    for (var i = 0; i < js_urls.length; i++) {\n      var url = js_urls[i];\n      var element = document.createElement('script');\n      element.onload = on_load;\n      element.onerror = on_error;\n      element.async = false;\n      element.src = url;\n      if (url in hashes) {\n        element.crossOrigin = \"anonymous\";\n        element.integrity = \"sha384-\" + hashes[url];\n      }\n      console.debug(\"Bokeh: injecting script tag for BokehJS library: \", url);\n      document.head.appendChild(element);\n    }\n  };\n\n  function inject_raw_css(css) {\n    const element = document.createElement(\"style\");\n    element.appendChild(document.createTextNode(css));\n    document.body.appendChild(element);\n  }\n\n  \n  var js_urls = [\"https://cdn.bokeh.org/bokeh/release/bokeh-2.0.2.min.js\", \"https://cdn.bokeh.org/bokeh/release/bokeh-widgets-2.0.2.min.js\", \"https://cdn.bokeh.org/bokeh/release/bokeh-tables-2.0.2.min.js\", \"https://cdn.bokeh.org/bokeh/release/bokeh-gl-2.0.2.min.js\"];\n  var css_urls = [];\n  \n\n  var inline_js = [\n    function(Bokeh) {\n      Bokeh.set_log_level(\"info\");\n    },\n    function(Bokeh) {\n    \n    \n    }\n  ];\n\n  function run_inline_js() {\n    \n    if (root.Bokeh !== undefined || force === true) {\n      \n    for (var i = 0; i < inline_js.length; i++) {\n      inline_js[i].call(root, root.Bokeh);\n    }\n    if (force === true) {\n        display_loaded();\n      }} else if (Date.now() < root._bokeh_timeout) {\n      setTimeout(run_inline_js, 100);\n    } else if (!root._bokeh_failed_load) {\n      console.log(\"Bokeh: BokehJS failed to load within specified timeout.\");\n      root._bokeh_failed_load = true;\n    } else if (force !== true) {\n      var cell = $(document.getElementById(\"1001\")).parents('.cell').data().cell;\n      cell.output_area.append_execute_result(NB_LOAD_WARNING)\n    }\n\n  }\n\n  if (root._bokeh_is_loading === 0) {\n    console.debug(\"Bokeh: BokehJS loaded, going straight to plotting\");\n    run_inline_js();\n  } else {\n    load_libs(css_urls, js_urls, function() {\n      console.debug(\"Bokeh: BokehJS plotting callback run at\", now());\n      run_inline_js();\n    });\n  }\n}(window));"
     },
     "metadata": {},
     "output_type": "display_data"
    }
   ],
   "source": [
    "from bokeh.io import output_notebook, show\n",
    "from bokeh.plotting import figure\n",
    "\n",
    "output_notebook()"
   ]
  },
  {
   "cell_type": "code",
   "execution_count": 103,
   "metadata": {
    "colab": {},
    "colab_type": "code",
    "id": "LLePjKIdrCSl"
   },
   "outputs": [],
   "source": [
    "y_pred = model.predict(X_test)\n",
    "y_pred_class = np.argmax(y_pred, axis=1)\n",
    "y_true = np.argmax(y_test, axis=1)"
   ]
  },
  {
   "cell_type": "code",
   "execution_count": 15,
   "metadata": {
    "colab": {
     "base_uri": "https://localhost:8080/",
     "height": 454
    },
    "colab_type": "code",
    "id": "U2elMh0G19Vt",
    "outputId": "e2fffdbe-83ed-4129-de3e-523f5eadea76"
   },
   "outputs": [
    {
     "data": {
      "text/plain": [
       "{'DejaVu Sans',\n",
       " 'DejaVu Sans Display',\n",
       " 'DejaVu Sans Mono',\n",
       " 'DejaVu Serif',\n",
       " 'DejaVu Serif Display',\n",
       " 'Humor Sans',\n",
       " 'Liberation Mono',\n",
       " 'Liberation Sans',\n",
       " 'Liberation Sans Narrow',\n",
       " 'Liberation Serif',\n",
       " 'STIXGeneral',\n",
       " 'STIXNonUnicode',\n",
       " 'STIXSizeFiveSym',\n",
       " 'STIXSizeFourSym',\n",
       " 'STIXSizeOneSym',\n",
       " 'STIXSizeThreeSym',\n",
       " 'STIXSizeTwoSym',\n",
       " 'cmb10',\n",
       " 'cmex10',\n",
       " 'cmmi10',\n",
       " 'cmr10',\n",
       " 'cmss10',\n",
       " 'cmsy10',\n",
       " 'cmtt10'}"
      ]
     },
     "execution_count": 15,
     "metadata": {
      "tags": []
     },
     "output_type": "execute_result"
    }
   ],
   "source": [
    "import matplotlib.font_manager\n",
    "set([f.name for f in matplotlib.font_manager.fontManager.ttflist])"
   ]
  },
  {
   "cell_type": "code",
   "execution_count": 50,
   "metadata": {
    "colab": {
     "base_uri": "https://localhost:8080/",
     "height": 832
    },
    "colab_type": "code",
    "id": "7N6WCxAHKDk6",
    "outputId": "1d5bd608-9853-4b21-f0cc-a7bd44123242"
   },
   "outputs": [
    {
     "data": {
      "image/png": "[encoded data removed]",
      "text/plain": [
       "<Figure size 864x864 with 2 Axes>"
      ]
     },
     "metadata": {
      "tags": []
     },
     "output_type": "display_data"
    }
   ],
   "source": [
    "from sklearn.metrics import confusion_matrix\n",
    "import seaborn as sns\n",
    "import matplotlib.pyplot as plt\n",
    "\n",
    "# confusion = confusion_matrix(y_true, y_pred_class)\n",
    "confusion = np.array([[15155,  5452,  3393],\n",
    "                      [ 4172, 15510,  4318],\n",
    "                      [ 5239,  8478, 10283]])\n",
    "\n",
    "f, ax = plt.subplots(figsize= (12,12))\n",
    "\n",
    "labels = [\"Pog\", \"Kappa\", \"Other\"]\n",
    "sns.heatmap(confusion, xticklabels=labels, yticklabels=labels, annot = True, cmap = \"YlGnBu\", fmt= '.1f', annot_kws={\"fontsize\":20})\n",
    "\n",
    "plt.yticks(rotation=0)\n",
    "\n",
    "ax.invert_yaxis()\n",
    "ax.set_title(\"Confusion Matrix\", fontname='DejaVu Serif', fontsize=40, pad=30)\n",
    "ax.set_xlabel(\"Predicted Label\", fontname='DejaVu Serif', fontsize=30, labelpad=30)\n",
    "ax.set_ylabel(\"True Label\", fontname='DejaVu Serif', fontsize=30, labelpad=30)\n",
    "\n",
    "plt.rcParams['font.family'] = \"DejaVu Serif\"\n",
    "\n",
    "plt.show()\n",
    "# plt.savefig('cm.png')"
   ]
  },
  {
   "cell_type": "code",
   "execution_count": 3,
   "metadata": {
    "colab": {
     "base_uri": "https://localhost:8080/",
     "height": 745
    },
    "colab_type": "code",
    "id": "i8MChnLHKCvg",
    "outputId": "251d4d59-2d24-48ce-a1cc-f38d754eb11d"
   },
   "outputs": [
    {
     "data": {
      "text/plain": [
       "{'loss': [0.5566859245300293,\n",
       "  0.5336248278617859,\n",
       "  0.5221971273422241,\n",
       "  0.5083720088005066,\n",
       "  0.4958172142505646,\n",
       "  0.4828302264213562,\n",
       "  0.4663048982620239,\n",
       "  0.45513129234313965,\n",
       "  0.4425618350505829,\n",
       "  0.42758190631866455],\n",
       " 'acc': [0.5243333578109741,\n",
       "  0.5579652786254883,\n",
       "  0.5755521059036255,\n",
       "  0.590996503829956,\n",
       "  0.6064131855964661,\n",
       "  0.6225903034210205,\n",
       "  0.640701413154602,\n",
       "  0.6516110897064209,\n",
       "  0.6650694608688354,\n",
       "  0.6792430281639099],\n",
       " 'val_loss': [0.5370073914527893,\n",
       "  0.5318731069564819,\n",
       "  0.5268410444259644,\n",
       "  0.5263255834579468,\n",
       "  0.5321478247642517,\n",
       "  0.5384119749069214,\n",
       "  0.5408296585083008,\n",
       "  0.5531864762306213,\n",
       "  0.5651594996452332,\n",
       "  0.5729269981384277],\n",
       " 'val_acc': [0.5508055686950684,\n",
       "  0.5596944689750671,\n",
       "  0.5660971999168396,\n",
       "  0.5687222480773926,\n",
       "  0.5659999847412109,\n",
       "  0.5646944642066956,\n",
       "  0.566444456577301,\n",
       "  0.5605972409248352,\n",
       "  0.5617361068725586,\n",
       "  0.5575000047683716]}"
      ]
     },
     "execution_count": 3,
     "metadata": {},
     "output_type": "execute_result"
    }
   ],
   "source": [
    "history = pickle.load(open(\"BLSTM_1layer_128_nodense_001_dropout_2_history.pkl\",\"rb\"))\n",
    "history"
   ]
  },
  {
   "cell_type": "code",
   "execution_count": 6,
   "metadata": {
    "colab": {
     "base_uri": "https://localhost:8080/",
     "height": 517
    },
    "colab_type": "code",
    "id": "HHHs26rm7BQI",
    "outputId": "93f7bfa7-45d2-4273-de90-949e962f609b"
   },
   "outputs": [
    {
     "data": {
      "image/png": "[encoded data removed]",
      "text/plain": [
       "<PIL.Image.Image image mode=RGBA size=1000x500 at 0x228B81D7A58>"
      ]
     },
     "execution_count": 6,
     "metadata": {},
     "output_type": "execute_result"
    }
   ],
   "source": [
    "from bokeh.io.export import get_screenshot_as_png\n",
    "\n",
    "x = [i for i in range(1,11)]\n",
    "y = history['val_acc']\n",
    "p = figure(plot_height=500, plot_width=1000,\n",
    "            title=\"Validation Accuracy by Epoch\", tools=\"save\")\n",
    "p.line(x, y, line_width=4)\n",
    "p.xgrid.grid_line_color = None\n",
    "p.axis.minor_tick_line_color = None\n",
    "p.xaxis.axis_label = \"Epochs\"\n",
    "p.yaxis.axis_label = \"Validation Accuracy\"\n",
    "p.xaxis.major_label_orientation = 1\n",
    "p.title.text_font_size = '20pt'\n",
    "\n",
    "p.yaxis.axis_label_text_font_size = \"20pt\"\n",
    "p.yaxis.major_label_text_font_size = \"15pt\"\n",
    "p.xaxis.axis_label_text_font_size = \"20pt\"\n",
    "p.xaxis.major_label_text_font_size = \"15pt\"\n",
    "\n",
    "get_screenshot_as_png(p)"
   ]
  },
  {
   "cell_type": "code",
   "execution_count": 7,
   "metadata": {
    "colab": {
     "base_uri": "https://localhost:8080/",
     "height": 517
    },
    "colab_type": "code",
    "id": "2LDAuCqH71_Z",
    "outputId": "2d52cf88-3bed-46be-9329-30cbe8005ef5"
   },
   "outputs": [
    {
     "data": {
      "image/png": "[encoded data removed]",
      "text/plain": [
       "<PIL.Image.Image image mode=RGBA size=1000x500 at 0x228B81B7FD0>"
      ]
     },
     "execution_count": 7,
     "metadata": {},
     "output_type": "execute_result"
    }
   ],
   "source": [
    "x = [i for i in range(1,11)]\n",
    "y = history['val_loss']\n",
    "p = figure(plot_height=500, plot_width=1000,\n",
    "            title=\"Validation Loss by Epoch\", tools=\"save\")\n",
    "p.line(x, y, line_width=4)\n",
    "p.xgrid.grid_line_color = None\n",
    "p.axis.minor_tick_line_color = None\n",
    "p.xaxis.axis_label = \"Epochs\"\n",
    "p.yaxis.axis_label = \"Validation Loss\"\n",
    "p.xaxis.major_label_orientation = 1\n",
    "p.title.text_font_size = '25pt'\n",
    "\n",
    "p.yaxis.axis_label_text_font_size = \"20pt\"\n",
    "p.yaxis.major_label_text_font_size = \"15pt\"\n",
    "p.xaxis.axis_label_text_font_size = \"20pt\"\n",
    "p.xaxis.major_label_text_font_size = \"15pt\"\n",
    "get_screenshot_as_png(p)"
   ]
  },
  {
   "cell_type": "markdown",
   "metadata": {
    "colab_type": "text",
    "id": "dfkX4I_H9kxL"
   },
   "source": [
    "# Unfinished\n",
    "\n",
    "## Sentiment Analysis\n",
    "\n",
    "We are finally ready to analyze the sentiment of chat rooms. Our first step will be to compute the percentage of messages corresponding to an emote group by day. For this, we will use our full data set."
   ]
  },
  {
   "cell_type": "code",
   "execution_count": 69,
   "metadata": {
    "colab": {},
    "colab_type": "code",
    "id": "j681R6Fu7_MK"
   },
   "outputs": [],
   "source": [
    "df = pd.read_csv('sodapoppin_trim.csv', parse_dates=['created_at'])"
   ]
  },
  {
   "cell_type": "code",
   "execution_count": null,
   "metadata": {
    "colab": {},
    "colab_type": "code",
    "id": "Ky2sUcqW9iSZ"
   },
   "outputs": [],
   "source": [
    "def process_df(streamer):\n",
    "  df = pd.read_csv(streamer +'_trim.csv', parse_dates=['created_at'])\n",
    "  df['body'] = df['body'].apply(lambda x: re.sub(\"http\\S+|[^\\x00-\\x7F]\", \"\", str(x)))\n",
    "  df['tokens_body'] = df['body'].apply(lambda x: twokenize.tokenizeRawTweetText(x))\n",
    "  df['date'] = df['created_at'].apply(lambda x: datetime.strptime(datetime.strftime(x, '%Y %m %d %H'), '%Y %m %d %H'))\n",
    "\n",
    "  X = global_emotes.union(streamer_emotes(streamer)).union(topffemotes)\n",
    "  df['unique_emotes'] = df['tokens_body'].apply(set)\n",
    "  df['unique_emotes'] = df['unique_emotes'].apply(lambda x: x.intersection(set(X)))\n",
    "  df['count_emotes'] = df['unique_emotes'].apply(lambda x: len(x))\n",
    "\n",
    "  kappas = {'Kapp', 'Kappa', 'KappaClaus', 'KappaPride', 'KappaRoss', 'KappaWealth', 'Kappu', 'Keepo'}\n",
    "  pogs = {'POGGERS','Pog','PogChamp','PogU','PogYou','Pogey'}\n",
    "\n",
    "  df['kappa'] = df['unique_emotes'].apply(lambda x: 1 if len(x.intersection(kappas)) > 0 else 0)\n",
    "  df['pog'] = df['unique_emotes'].apply(lambda x: 1 if len(x.intersection(pogs)) > 0 else 0)\n",
    "  df['pog'] = df['kappa'].apply(lambda x: 0 if x==1)\n",
    "  df_filt['mix'] = df_filt['pog'] + df_filt['kappa']\n",
    "  df_filt['other'] = df_filt['mix'].apply(lambda x: 1 if x == 0 else 0)\n",
    "\n",
    "  \n",
    "  return df[['date','tokens_body', 'pog', 'kappa', 'other']]"
   ]
  },
  {
   "cell_type": "code",
   "execution_count": 73,
   "metadata": {
    "colab": {
     "base_uri": "https://localhost:8080/",
     "height": 35
    },
    "colab_type": "code",
    "id": "LpguA_om9i2j",
    "outputId": "eb96620e-6024-4396-8ab8-41edbe6d4642"
   },
   "outputs": [
    {
     "data": {
      "text/plain": [
       "2"
      ]
     },
     "execution_count": 73,
     "metadata": {
      "tags": []
     },
     "output_type": "execute_result"
    }
   ],
   "source": [
    "x = {'1','2'}\n",
    "len(x)"
   ]
  },
  {
   "cell_type": "code",
   "execution_count": null,
   "metadata": {
    "colab": {},
    "colab_type": "code",
    "id": "XaR5Tfsr9jXf"
   },
   "outputs": [],
   "source": []
  },
  {
   "cell_type": "code",
   "execution_count": null,
   "metadata": {
    "colab": {},
    "colab_type": "code",
    "id": "-4GVWU949kG1"
   },
   "outputs": [],
   "source": []
  },
  {
   "cell_type": "code",
   "execution_count": null,
   "metadata": {
    "colab": {},
    "colab_type": "code",
    "id": "u6LLtUY19jp8"
   },
   "outputs": [],
   "source": []
  },
  {
   "cell_type": "code",
   "execution_count": null,
   "metadata": {
    "colab": {},
    "colab_type": "code",
    "id": "CcBbFcJ09jGz"
   },
   "outputs": [],
   "source": []
  },
  {
   "cell_type": "code",
   "execution_count": null,
   "metadata": {
    "colab": {},
    "colab_type": "code",
    "id": "m-BZSnDR9iqH"
   },
   "outputs": [],
   "source": []
  },
  {
   "cell_type": "code",
   "execution_count": null,
   "metadata": {
    "colab": {},
    "colab_type": "code",
    "id": "g4ejjEPi9iON"
   },
   "outputs": [],
   "source": []
  }
 ],
 "metadata": {
  "accelerator": "GPU",
  "colab": {
   "collapsed_sections": [],
   "machine_shape": "hm",
   "name": "sentiment_analysis_Twitch.ipynb",
   "provenance": [],
   "toc_visible": true
  },
  "kernelspec": {
   "display_name": "Python 3",
   "language": "python",
   "name": "python3"
  },
  "language_info": {
   "codemirror_mode": {
    "name": "ipython",
    "version": 3
   },
   "file_extension": ".py",
   "mimetype": "text/x-python",
   "name": "python",
   "nbconvert_exporter": "python",
   "pygments_lexer": "ipython3",
   "version": "3.6.8"
  }
 },
 "nbformat": 4,
 "nbformat_minor": 1
}
